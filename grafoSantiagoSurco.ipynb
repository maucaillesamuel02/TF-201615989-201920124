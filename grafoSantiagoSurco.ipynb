# -*- coding: utf-8 -*-
"""
Spyder Editor

This is a temporary script file.
"""

import osmnx as ox

G = ox.graph_from_place('Santiago de Surco, Lima, Peru', network_type='drive')
 
prj_road=ox.project_graph(G)

ox.save_graph_shapefile(prj_road, filepath=r'C:\Users\PERU\Desktop\Test\Santiago de Surco1')


